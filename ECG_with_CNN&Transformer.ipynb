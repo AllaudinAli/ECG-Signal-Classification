{
  "cells": [
    {
      "cell_type": "code",
      "execution_count": 1,
      "metadata": {
        "id": "GKthcHNddGWj"
      },
      "outputs": [
        {
          "name": "stdout",
          "output_type": "stream",
          "text": [
            "WARNING:tensorflow:From d:\\Softwares\\Python\\Lib\\site-packages\\keras\\src\\losses.py:2976: The name tf.losses.sparse_softmax_cross_entropy is deprecated. Please use tf.compat.v1.losses.sparse_softmax_cross_entropy instead.\n",
            "\n"
          ]
        }
      ],
      "source": [
        "import numpy as np\n",
        "import os\n",
        "os.environ['TF_CPP_MIN_LOG_LEVEL'] = '2'\n",
        "import pandas as pd\n",
        "import matplotlib.pyplot as plt\n",
        "from sklearn.model_selection import train_test_split\n",
        "import tensorflow as tf\n",
        "from keras.metrics import Precision,Recall\n",
        "from keras import Model\n",
        "from tensorflow.keras.models import load_model\n",
        "import logging"
      ]
    },
    {
      "cell_type": "code",
      "execution_count": 2,
      "metadata": {},
      "outputs": [],
      "source": [
        "# Suppress specific TensorFlow warning\n",
        "tf.get_logger().setLevel(logging.ERROR)"
      ]
    },
    {
      "cell_type": "code",
      "execution_count": 3,
      "metadata": {
        "id": "xycJrik5f8pE"
      },
      "outputs": [],
      "source": [
        "normal_df = pd.read_csv('ECG Heartbeat Categorization Dataset\\ptbdb_normal.csv',header=None)\n",
        "abnormal_df = pd.read_csv('ECG Heartbeat Categorization Dataset\\ptbdb_abnormal.csv',header=None)"
      ]
    },
    {
      "cell_type": "code",
      "execution_count": 4,
      "metadata": {
        "colab": {
          "base_uri": "https://localhost:8080/"
        },
        "id": "tnlqHhhbh5uu",
        "outputId": "7ac2460c-a992-44fd-a252-54e694295b3b"
      },
      "outputs": [
        {
          "data": {
            "text/plain": [
              "4046"
            ]
          },
          "execution_count": 4,
          "metadata": {},
          "output_type": "execute_result"
        }
      ],
      "source": [
        "len(normal_df)"
      ]
    },
    {
      "cell_type": "code",
      "execution_count": 5,
      "metadata": {
        "colab": {
          "base_uri": "https://localhost:8080/"
        },
        "id": "iZwEW-UyiFJB",
        "outputId": "46296748-ecb8-42c4-9e19-dc114343037a"
      },
      "outputs": [
        {
          "data": {
            "text/plain": [
              "10506"
            ]
          },
          "execution_count": 5,
          "metadata": {},
          "output_type": "execute_result"
        }
      ],
      "source": [
        "len(abnormal_df)"
      ]
    },
    {
      "cell_type": "code",
      "execution_count": 6,
      "metadata": {
        "colab": {
          "base_uri": "https://localhost:8080/",
          "height": 424
        },
        "id": "6n3haNCriKoP",
        "outputId": "44380a61-8ddd-4b7c-e00c-e2675d9d4cba"
      },
      "outputs": [
        {
          "data": {
            "text/html": [
              "<div>\n",
              "<style scoped>\n",
              "    .dataframe tbody tr th:only-of-type {\n",
              "        vertical-align: middle;\n",
              "    }\n",
              "\n",
              "    .dataframe tbody tr th {\n",
              "        vertical-align: top;\n",
              "    }\n",
              "\n",
              "    .dataframe thead th {\n",
              "        text-align: right;\n",
              "    }\n",
              "</style>\n",
              "<table border=\"1\" class=\"dataframe\">\n",
              "  <thead>\n",
              "    <tr style=\"text-align: right;\">\n",
              "      <th></th>\n",
              "      <th>0</th>\n",
              "      <th>1</th>\n",
              "      <th>2</th>\n",
              "      <th>3</th>\n",
              "      <th>4</th>\n",
              "      <th>5</th>\n",
              "      <th>6</th>\n",
              "      <th>7</th>\n",
              "      <th>8</th>\n",
              "      <th>9</th>\n",
              "      <th>...</th>\n",
              "      <th>178</th>\n",
              "      <th>179</th>\n",
              "      <th>180</th>\n",
              "      <th>181</th>\n",
              "      <th>182</th>\n",
              "      <th>183</th>\n",
              "      <th>184</th>\n",
              "      <th>185</th>\n",
              "      <th>186</th>\n",
              "      <th>187</th>\n",
              "    </tr>\n",
              "  </thead>\n",
              "  <tbody>\n",
              "    <tr>\n",
              "      <th>0</th>\n",
              "      <td>1.000000</td>\n",
              "      <td>0.900324</td>\n",
              "      <td>0.358590</td>\n",
              "      <td>0.051459</td>\n",
              "      <td>0.046596</td>\n",
              "      <td>0.126823</td>\n",
              "      <td>0.133306</td>\n",
              "      <td>0.119125</td>\n",
              "      <td>0.110616</td>\n",
              "      <td>0.113047</td>\n",
              "      <td>...</td>\n",
              "      <td>0.0</td>\n",
              "      <td>0.0</td>\n",
              "      <td>0.0</td>\n",
              "      <td>0.0</td>\n",
              "      <td>0.0</td>\n",
              "      <td>0.0</td>\n",
              "      <td>0.0</td>\n",
              "      <td>0.0</td>\n",
              "      <td>0.0</td>\n",
              "      <td>0.0</td>\n",
              "    </tr>\n",
              "    <tr>\n",
              "      <th>1</th>\n",
              "      <td>1.000000</td>\n",
              "      <td>0.794681</td>\n",
              "      <td>0.375387</td>\n",
              "      <td>0.116883</td>\n",
              "      <td>0.000000</td>\n",
              "      <td>0.171923</td>\n",
              "      <td>0.283859</td>\n",
              "      <td>0.293754</td>\n",
              "      <td>0.325912</td>\n",
              "      <td>0.345083</td>\n",
              "      <td>...</td>\n",
              "      <td>0.0</td>\n",
              "      <td>0.0</td>\n",
              "      <td>0.0</td>\n",
              "      <td>0.0</td>\n",
              "      <td>0.0</td>\n",
              "      <td>0.0</td>\n",
              "      <td>0.0</td>\n",
              "      <td>0.0</td>\n",
              "      <td>0.0</td>\n",
              "      <td>0.0</td>\n",
              "    </tr>\n",
              "    <tr>\n",
              "      <th>2</th>\n",
              "      <td>0.909029</td>\n",
              "      <td>0.791482</td>\n",
              "      <td>0.423169</td>\n",
              "      <td>0.186712</td>\n",
              "      <td>0.000000</td>\n",
              "      <td>0.007836</td>\n",
              "      <td>0.063032</td>\n",
              "      <td>0.077002</td>\n",
              "      <td>0.074957</td>\n",
              "      <td>0.077342</td>\n",
              "      <td>...</td>\n",
              "      <td>0.0</td>\n",
              "      <td>0.0</td>\n",
              "      <td>0.0</td>\n",
              "      <td>0.0</td>\n",
              "      <td>0.0</td>\n",
              "      <td>0.0</td>\n",
              "      <td>0.0</td>\n",
              "      <td>0.0</td>\n",
              "      <td>0.0</td>\n",
              "      <td>0.0</td>\n",
              "    </tr>\n",
              "    <tr>\n",
              "      <th>3</th>\n",
              "      <td>1.000000</td>\n",
              "      <td>0.478893</td>\n",
              "      <td>0.056760</td>\n",
              "      <td>0.064176</td>\n",
              "      <td>0.081289</td>\n",
              "      <td>0.072732</td>\n",
              "      <td>0.055619</td>\n",
              "      <td>0.048774</td>\n",
              "      <td>0.054478</td>\n",
              "      <td>0.041643</td>\n",
              "      <td>...</td>\n",
              "      <td>0.0</td>\n",
              "      <td>0.0</td>\n",
              "      <td>0.0</td>\n",
              "      <td>0.0</td>\n",
              "      <td>0.0</td>\n",
              "      <td>0.0</td>\n",
              "      <td>0.0</td>\n",
              "      <td>0.0</td>\n",
              "      <td>0.0</td>\n",
              "      <td>0.0</td>\n",
              "    </tr>\n",
              "    <tr>\n",
              "      <th>4</th>\n",
              "      <td>1.000000</td>\n",
              "      <td>0.867238</td>\n",
              "      <td>0.201360</td>\n",
              "      <td>0.099349</td>\n",
              "      <td>0.141336</td>\n",
              "      <td>0.120934</td>\n",
              "      <td>0.108516</td>\n",
              "      <td>0.096393</td>\n",
              "      <td>0.093436</td>\n",
              "      <td>0.100828</td>\n",
              "      <td>...</td>\n",
              "      <td>0.0</td>\n",
              "      <td>0.0</td>\n",
              "      <td>0.0</td>\n",
              "      <td>0.0</td>\n",
              "      <td>0.0</td>\n",
              "      <td>0.0</td>\n",
              "      <td>0.0</td>\n",
              "      <td>0.0</td>\n",
              "      <td>0.0</td>\n",
              "      <td>0.0</td>\n",
              "    </tr>\n",
              "    <tr>\n",
              "      <th>...</th>\n",
              "      <td>...</td>\n",
              "      <td>...</td>\n",
              "      <td>...</td>\n",
              "      <td>...</td>\n",
              "      <td>...</td>\n",
              "      <td>...</td>\n",
              "      <td>...</td>\n",
              "      <td>...</td>\n",
              "      <td>...</td>\n",
              "      <td>...</td>\n",
              "      <td>...</td>\n",
              "      <td>...</td>\n",
              "      <td>...</td>\n",
              "      <td>...</td>\n",
              "      <td>...</td>\n",
              "      <td>...</td>\n",
              "      <td>...</td>\n",
              "      <td>...</td>\n",
              "      <td>...</td>\n",
              "      <td>...</td>\n",
              "      <td>...</td>\n",
              "    </tr>\n",
              "    <tr>\n",
              "      <th>14547</th>\n",
              "      <td>0.981409</td>\n",
              "      <td>1.000000</td>\n",
              "      <td>0.559171</td>\n",
              "      <td>0.287093</td>\n",
              "      <td>0.196639</td>\n",
              "      <td>0.204862</td>\n",
              "      <td>0.215946</td>\n",
              "      <td>0.243833</td>\n",
              "      <td>0.242760</td>\n",
              "      <td>0.250268</td>\n",
              "      <td>...</td>\n",
              "      <td>0.0</td>\n",
              "      <td>0.0</td>\n",
              "      <td>0.0</td>\n",
              "      <td>0.0</td>\n",
              "      <td>0.0</td>\n",
              "      <td>0.0</td>\n",
              "      <td>0.0</td>\n",
              "      <td>0.0</td>\n",
              "      <td>0.0</td>\n",
              "      <td>1.0</td>\n",
              "    </tr>\n",
              "    <tr>\n",
              "      <th>14548</th>\n",
              "      <td>0.906250</td>\n",
              "      <td>0.922379</td>\n",
              "      <td>0.878024</td>\n",
              "      <td>0.810484</td>\n",
              "      <td>0.712702</td>\n",
              "      <td>0.667339</td>\n",
              "      <td>0.608871</td>\n",
              "      <td>0.527218</td>\n",
              "      <td>0.480847</td>\n",
              "      <td>0.442540</td>\n",
              "      <td>...</td>\n",
              "      <td>0.0</td>\n",
              "      <td>0.0</td>\n",
              "      <td>0.0</td>\n",
              "      <td>0.0</td>\n",
              "      <td>0.0</td>\n",
              "      <td>0.0</td>\n",
              "      <td>0.0</td>\n",
              "      <td>0.0</td>\n",
              "      <td>0.0</td>\n",
              "      <td>1.0</td>\n",
              "    </tr>\n",
              "    <tr>\n",
              "      <th>14549</th>\n",
              "      <td>1.000000</td>\n",
              "      <td>0.867971</td>\n",
              "      <td>0.674122</td>\n",
              "      <td>0.470332</td>\n",
              "      <td>0.296987</td>\n",
              "      <td>0.169307</td>\n",
              "      <td>0.077664</td>\n",
              "      <td>0.081392</td>\n",
              "      <td>0.074868</td>\n",
              "      <td>0.089779</td>\n",
              "      <td>...</td>\n",
              "      <td>0.0</td>\n",
              "      <td>0.0</td>\n",
              "      <td>0.0</td>\n",
              "      <td>0.0</td>\n",
              "      <td>0.0</td>\n",
              "      <td>0.0</td>\n",
              "      <td>0.0</td>\n",
              "      <td>0.0</td>\n",
              "      <td>0.0</td>\n",
              "      <td>1.0</td>\n",
              "    </tr>\n",
              "    <tr>\n",
              "      <th>14550</th>\n",
              "      <td>1.000000</td>\n",
              "      <td>0.984672</td>\n",
              "      <td>0.658888</td>\n",
              "      <td>0.556394</td>\n",
              "      <td>0.446809</td>\n",
              "      <td>0.395790</td>\n",
              "      <td>0.315260</td>\n",
              "      <td>0.276367</td>\n",
              "      <td>0.261039</td>\n",
              "      <td>0.258522</td>\n",
              "      <td>...</td>\n",
              "      <td>0.0</td>\n",
              "      <td>0.0</td>\n",
              "      <td>0.0</td>\n",
              "      <td>0.0</td>\n",
              "      <td>0.0</td>\n",
              "      <td>0.0</td>\n",
              "      <td>0.0</td>\n",
              "      <td>0.0</td>\n",
              "      <td>0.0</td>\n",
              "      <td>1.0</td>\n",
              "    </tr>\n",
              "    <tr>\n",
              "      <th>14551</th>\n",
              "      <td>0.997886</td>\n",
              "      <td>0.700317</td>\n",
              "      <td>0.464059</td>\n",
              "      <td>0.318182</td>\n",
              "      <td>0.233615</td>\n",
              "      <td>0.184989</td>\n",
              "      <td>0.124207</td>\n",
              "      <td>0.082981</td>\n",
              "      <td>0.087738</td>\n",
              "      <td>0.063953</td>\n",
              "      <td>...</td>\n",
              "      <td>0.0</td>\n",
              "      <td>0.0</td>\n",
              "      <td>0.0</td>\n",
              "      <td>0.0</td>\n",
              "      <td>0.0</td>\n",
              "      <td>0.0</td>\n",
              "      <td>0.0</td>\n",
              "      <td>0.0</td>\n",
              "      <td>0.0</td>\n",
              "      <td>1.0</td>\n",
              "    </tr>\n",
              "  </tbody>\n",
              "</table>\n",
              "<p>14552 rows × 188 columns</p>\n",
              "</div>"
            ],
            "text/plain": [
              "            0         1         2         3         4         5         6    \\\n",
              "0      1.000000  0.900324  0.358590  0.051459  0.046596  0.126823  0.133306   \n",
              "1      1.000000  0.794681  0.375387  0.116883  0.000000  0.171923  0.283859   \n",
              "2      0.909029  0.791482  0.423169  0.186712  0.000000  0.007836  0.063032   \n",
              "3      1.000000  0.478893  0.056760  0.064176  0.081289  0.072732  0.055619   \n",
              "4      1.000000  0.867238  0.201360  0.099349  0.141336  0.120934  0.108516   \n",
              "...         ...       ...       ...       ...       ...       ...       ...   \n",
              "14547  0.981409  1.000000  0.559171  0.287093  0.196639  0.204862  0.215946   \n",
              "14548  0.906250  0.922379  0.878024  0.810484  0.712702  0.667339  0.608871   \n",
              "14549  1.000000  0.867971  0.674122  0.470332  0.296987  0.169307  0.077664   \n",
              "14550  1.000000  0.984672  0.658888  0.556394  0.446809  0.395790  0.315260   \n",
              "14551  0.997886  0.700317  0.464059  0.318182  0.233615  0.184989  0.124207   \n",
              "\n",
              "            7         8         9    ...  178  179  180  181  182  183  184  \\\n",
              "0      0.119125  0.110616  0.113047  ...  0.0  0.0  0.0  0.0  0.0  0.0  0.0   \n",
              "1      0.293754  0.325912  0.345083  ...  0.0  0.0  0.0  0.0  0.0  0.0  0.0   \n",
              "2      0.077002  0.074957  0.077342  ...  0.0  0.0  0.0  0.0  0.0  0.0  0.0   \n",
              "3      0.048774  0.054478  0.041643  ...  0.0  0.0  0.0  0.0  0.0  0.0  0.0   \n",
              "4      0.096393  0.093436  0.100828  ...  0.0  0.0  0.0  0.0  0.0  0.0  0.0   \n",
              "...         ...       ...       ...  ...  ...  ...  ...  ...  ...  ...  ...   \n",
              "14547  0.243833  0.242760  0.250268  ...  0.0  0.0  0.0  0.0  0.0  0.0  0.0   \n",
              "14548  0.527218  0.480847  0.442540  ...  0.0  0.0  0.0  0.0  0.0  0.0  0.0   \n",
              "14549  0.081392  0.074868  0.089779  ...  0.0  0.0  0.0  0.0  0.0  0.0  0.0   \n",
              "14550  0.276367  0.261039  0.258522  ...  0.0  0.0  0.0  0.0  0.0  0.0  0.0   \n",
              "14551  0.082981  0.087738  0.063953  ...  0.0  0.0  0.0  0.0  0.0  0.0  0.0   \n",
              "\n",
              "       185  186  187  \n",
              "0      0.0  0.0  0.0  \n",
              "1      0.0  0.0  0.0  \n",
              "2      0.0  0.0  0.0  \n",
              "3      0.0  0.0  0.0  \n",
              "4      0.0  0.0  0.0  \n",
              "...    ...  ...  ...  \n",
              "14547  0.0  0.0  1.0  \n",
              "14548  0.0  0.0  1.0  \n",
              "14549  0.0  0.0  1.0  \n",
              "14550  0.0  0.0  1.0  \n",
              "14551  0.0  0.0  1.0  \n",
              "\n",
              "[14552 rows x 188 columns]"
            ]
          },
          "execution_count": 6,
          "metadata": {},
          "output_type": "execute_result"
        }
      ],
      "source": [
        "df = pd.concat([normal_df, abnormal_df])\n",
        "df = df.reset_index(drop = True)\n",
        "df"
      ]
    },
    {
      "cell_type": "code",
      "execution_count": 7,
      "metadata": {
        "colab": {
          "base_uri": "https://localhost:8080/",
          "height": 680
        },
        "id": "QtXaK8oeiYBV",
        "outputId": "e48762c5-3437-4d41-a096-d9bda23ac0ca"
      },
      "outputs": [
        {
          "data": {
            "text/plain": [
              "([<matplotlib.patches.Wedge at 0x1dc1a8f1650>,\n",
              "  <matplotlib.patches.Wedge at 0x1dc1dd72010>],\n",
              " [Text(-0.7063789295915316, 0.8432252414563516, 'Abnormal'),\n",
              "  Text(0.7063789295915318, -0.8432252414563512, 'Normal')],\n",
              " [Text(-0.3852975979590172, 0.4599410407943735, '72.2%'),\n",
              "  Text(0.38529759795901736, -0.45994104079437337, '27.8%')])"
            ]
          },
          "execution_count": 7,
          "metadata": {},
          "output_type": "execute_result"
        },
        {
          "data": {
            "image/png": "[encoded data removed]",
            "text/plain": [
              "<Figure size 700x700 with 1 Axes>"
            ]
          },
          "metadata": {},
          "output_type": "display_data"
        }
      ],
      "source": [
        "clases = df.iloc[:,187].value_counts()\n",
        "plt.figure(figsize=(7,7))\n",
        "plt.pie(clases, labels=['Abnormal','Normal'], autopct='%1.1f%%')"
      ]
    },
    {
      "cell_type": "code",
      "execution_count": 8,
      "metadata": {
        "colab": {
          "base_uri": "https://localhost:8080/",
          "height": 870
        },
        "id": "J9zc5hoTiggl",
        "outputId": "f5bc0f1e-4050-4a60-e975-18f3b3ca64c4"
      },
      "outputs": [
        {
          "data": {
            "text/plain": [
              "Text(0.5, 1.0, 'Abnormal')"
            ]
          },
          "execution_count": 8,
          "metadata": {},
          "output_type": "execute_result"
        },
        {
          "data": {
            "image/png": "[encoded data removed]",
            "text/plain": [
              "<Figure size 1000x1000 with 6 Axes>"
            ]
          },
          "metadata": {},
          "output_type": "display_data"
        }
      ],
      "source": [
        "fig, ax = plt.subplots(6, sharex=True, sharey=True)\n",
        "fig.set_size_inches(10,10)\n",
        "ax[0].plot(df.iloc[0,:186])\n",
        "ax[0].set_title(\"Normal\")\n",
        "\n",
        "ax[1].plot(df.iloc[1,:186])\n",
        "ax[1].set_title(\"Normal\")\n",
        "\n",
        "ax[2].plot(df.iloc[2,:186])\n",
        "ax[2].set_title(\"Normal\")\n",
        "\n",
        "ax[3].plot(df.iloc[-1,:186])\n",
        "ax[3].set_title(\"Abnormal\")\n",
        "\n",
        "ax[4].plot(df.iloc[-2,:186])\n",
        "ax[4].set_title(\"Abnormal\")\n",
        "\n",
        "ax[5].plot(df.iloc[-3,:186])\n",
        "ax[5].set_title(\"Abnormal\")"
      ]
    },
    {
      "cell_type": "code",
      "execution_count": 9,
      "metadata": {
        "id": "32V-9aMzjeYA"
      },
      "outputs": [],
      "source": [
        "X = df.iloc[:,:186]\n",
        "y = df.iloc[:,-1]\n",
        "trax,tesx,tray,tesy = train_test_split(X,y,test_size=.3,random_state=42,stratify=y)"
      ]
    },
    {
      "cell_type": "code",
      "execution_count": 10,
      "metadata": {
        "id": "m_gcJvr2jqOr"
      },
      "outputs": [],
      "source": [
        "x_train = trax.values.reshape(len(trax), trax.shape[1],1)\n",
        "x_test = tesx.values.reshape(len(tesx), tesx.shape[1],1)"
      ]
    },
    {
      "cell_type": "markdown",
      "metadata": {
        "id": "uVY6PS7kjswj"
      },
      "source": [
        "**CNN**"
      ]
    },
    {
      "cell_type": "code",
      "execution_count": 11,
      "metadata": {
        "id": "ZXMjWCvojsVp"
      },
      "outputs": [],
      "source": [
        "from keras.layers import Conv1D, MaxPooling1D, Flatten, Dense, Dropout, BatchNormalization,MultiHeadAttention,GlobalAveragePooling1D,LayerNormalization,Input\n",
        "from keras.models import Sequential"
      ]
    },
    {
      "cell_type": "code",
      "execution_count": 13,
      "metadata": {
        "id": "bSvFE4SmjxHq"
      },
      "outputs": [],
      "source": [
        "cnn = Sequential([\n",
        "    Conv1D(512,3,input_shape=(x_train.shape[1],1), activation='relu'),\n",
        "    BatchNormalization(),\n",
        "    MaxPooling1D(pool_size=2),\n",
        "    Conv1D(128,3, activation='relu'),\n",
        "    BatchNormalization(),\n",
        "    MaxPooling1D(pool_size=2),\n",
        "    Conv1D(64,2, activation='relu'),\n",
        "    BatchNormalization(),\n",
        "    Conv1D(32,2, activation='selu'),\n",
        "    GlobalAveragePooling1D(),\n",
        "    Flatten(),\n",
        "    Dense(128, activation='relu'),\n",
        "    Dropout(0.5),\n",
        "    Dense(64, activation='relu'),\n",
        "    Dense(1, activation='sigmoid')\n",
        "])"
      ]
    },
    {
      "cell_type": "code",
      "execution_count": 14,
      "metadata": {
        "id": "s5aAfG0RjzXT"
      },
      "outputs": [],
      "source": [
        "cnn.compile(loss=\"binary_crossentropy\",optimizer='adam',metrics=['accuracy',Precision(),Recall()])"
      ]
    },
    {
      "cell_type": "code",
      "execution_count": 107,
      "metadata": {
        "colab": {
          "base_uri": "https://localhost:8080/"
        },
        "id": "EvC4-kIoj1im",
        "outputId": "e11546ba-1621-4109-e2e3-23d1013e2176"
      },
      "outputs": [
        {
          "name": "stdout",
          "output_type": "stream",
          "text": [
            "Epoch 1/100\n",
            "255/255 [==============================] - 11s 44ms/step - loss: 0.0137 - accuracy: 0.9963 - precision: 0.9974 - recall: 0.9974 - val_loss: 0.2473 - val_accuracy: 0.9210 - val_precision: 0.9070 - val_recall: 0.9940\n",
            "Epoch 2/100\n",
            "255/255 [==============================] - 11s 44ms/step - loss: 0.0055 - accuracy: 0.9978 - precision: 0.9985 - recall: 0.9985 - val_loss: 0.0232 - val_accuracy: 0.9931 - val_precision: 0.9946 - val_recall: 0.9960\n",
            "Epoch 3/100\n",
            "255/255 [==============================] - 12s 45ms/step - loss: 0.0151 - accuracy: 0.9947 - precision: 0.9964 - recall: 0.9962 - val_loss: 0.9313 - val_accuracy: 0.8734 - val_precision: 0.8761 - val_recall: 0.9631\n",
            "Epoch 4/100\n",
            "255/255 [==============================] - 12s 46ms/step - loss: 0.0143 - accuracy: 0.9942 - precision: 0.9949 - recall: 0.9971 - val_loss: 0.1820 - val_accuracy: 0.9573 - val_precision: 0.9986 - val_recall: 0.9430\n",
            "Epoch 5/100\n",
            "255/255 [==============================] - 11s 44ms/step - loss: 0.0102 - accuracy: 0.9964 - precision: 0.9973 - recall: 0.9978 - val_loss: 0.0729 - val_accuracy: 0.9794 - val_precision: 0.9745 - val_recall: 0.9980\n",
            "Epoch 6/100\n",
            "255/255 [==============================] - 11s 44ms/step - loss: 0.0053 - accuracy: 0.9982 - precision: 0.9988 - recall: 0.9986 - val_loss: 0.0348 - val_accuracy: 0.9887 - val_precision: 0.9848 - val_recall: 1.0000\n",
            "Epoch 7/100\n",
            "255/255 [==============================] - 11s 45ms/step - loss: 0.0045 - accuracy: 0.9986 - precision: 0.9991 - recall: 0.9990 - val_loss: 0.0355 - val_accuracy: 0.9907 - val_precision: 0.9874 - val_recall: 1.0000\n",
            "Epoch 8/100\n",
            "255/255 [==============================] - 11s 43ms/step - loss: 0.0118 - accuracy: 0.9957 - precision: 0.9964 - recall: 0.9976 - val_loss: 1.2926 - val_accuracy: 0.7983 - val_precision: 0.9991 - val_recall: 0.7250\n",
            "Epoch 9/100\n",
            "255/255 [==============================] - 11s 44ms/step - loss: 0.0102 - accuracy: 0.9967 - precision: 0.9973 - recall: 0.9981 - val_loss: 1.0407 - val_accuracy: 0.8062 - val_precision: 0.8517 - val_recall: 0.8900\n",
            "Epoch 10/100\n",
            "255/255 [==============================] - 11s 43ms/step - loss: 0.0163 - accuracy: 0.9937 - precision: 0.9946 - recall: 0.9968 - val_loss: 0.2612 - val_accuracy: 0.9092 - val_precision: 0.9528 - val_recall: 0.9215\n",
            "Epoch 11/100\n",
            "255/255 [==============================] - 11s 44ms/step - loss: 0.0046 - accuracy: 0.9984 - precision: 0.9990 - recall: 0.9988 - val_loss: 0.1044 - val_accuracy: 0.9725 - val_precision: 0.9761 - val_recall: 0.9866\n",
            "Epoch 12/100\n",
            "255/255 [==============================] - 11s 44ms/step - loss: 0.0096 - accuracy: 0.9968 - precision: 0.9976 - recall: 0.9980 - val_loss: 0.1157 - val_accuracy: 0.9627 - val_precision: 0.9515 - val_recall: 1.0000\n",
            "Epoch 13/100\n",
            "255/255 [==============================] - 11s 45ms/step - loss: 0.0124 - accuracy: 0.9961 - precision: 0.9971 - recall: 0.9974 - val_loss: 0.3262 - val_accuracy: 0.9293 - val_precision: 0.9140 - val_recall: 0.9973\n",
            "Epoch 14/100\n",
            "255/255 [==============================] - 11s 43ms/step - loss: 0.0069 - accuracy: 0.9982 - precision: 0.9990 - recall: 0.9985 - val_loss: 0.0354 - val_accuracy: 0.9921 - val_precision: 0.9940 - val_recall: 0.9953\n",
            "Epoch 15/100\n",
            "255/255 [==============================] - 11s 45ms/step - loss: 0.0095 - accuracy: 0.9966 - precision: 0.9976 - recall: 0.9976 - val_loss: 0.7153 - val_accuracy: 0.8651 - val_precision: 0.8447 - val_recall: 0.9993\n",
            "Epoch 16/100\n",
            "255/255 [==============================] - 12s 45ms/step - loss: 0.0091 - accuracy: 0.9966 - precision: 0.9978 - recall: 0.9974 - val_loss: 0.8714 - val_accuracy: 0.8513 - val_precision: 0.8315 - val_recall: 0.9993\n",
            "Epoch 17/100\n",
            "255/255 [==============================] - 11s 44ms/step - loss: 0.0137 - accuracy: 0.9961 - precision: 0.9976 - recall: 0.9969 - val_loss: 0.5116 - val_accuracy: 0.8813 - val_precision: 0.8702 - val_recall: 0.9846\n",
            "Epoch 18/100\n",
            "255/255 [==============================] - 11s 44ms/step - loss: 0.0098 - accuracy: 0.9967 - precision: 0.9976 - recall: 0.9978 - val_loss: 7.4433 - val_accuracy: 0.7287 - val_precision: 0.9979 - val_recall: 0.6304\n",
            "Epoch 19/100\n",
            "255/255 [==============================] - 12s 45ms/step - loss: 0.0054 - accuracy: 0.9983 - precision: 0.9988 - recall: 0.9988 - val_loss: 0.0340 - val_accuracy: 0.9917 - val_precision: 0.9907 - val_recall: 0.9980\n",
            "Epoch 20/100\n",
            "255/255 [==============================] - 11s 44ms/step - loss: 0.0014 - accuracy: 0.9998 - precision: 1.0000 - recall: 0.9997 - val_loss: 0.0301 - val_accuracy: 0.9907 - val_precision: 0.9881 - val_recall: 0.9993\n",
            "Epoch 21/100\n",
            "255/255 [==============================] - 11s 43ms/step - loss: 0.0119 - accuracy: 0.9964 - precision: 0.9971 - recall: 0.9980 - val_loss: 1.1113 - val_accuracy: 0.8057 - val_precision: 0.9582 - val_recall: 0.7679\n",
            "Epoch 22/100\n",
            "255/255 [==============================] - 11s 44ms/step - loss: 0.0075 - accuracy: 0.9974 - precision: 0.9976 - recall: 0.9988 - val_loss: 0.0336 - val_accuracy: 0.9882 - val_precision: 0.9986 - val_recall: 0.9852\n",
            "Epoch 23/100\n",
            "255/255 [==============================] - 11s 44ms/step - loss: 0.0038 - accuracy: 0.9989 - precision: 0.9993 - recall: 0.9991 - val_loss: 0.0417 - val_accuracy: 0.9882 - val_precision: 0.9966 - val_recall: 0.9873\n",
            "Epoch 24/100\n",
            "255/255 [==============================] - 11s 44ms/step - loss: 0.0177 - accuracy: 0.9947 - precision: 0.9961 - recall: 0.9966 - val_loss: 0.0768 - val_accuracy: 0.9784 - val_precision: 0.9776 - val_recall: 0.9933\n",
            "Epoch 25/100\n",
            "255/255 [==============================] - 11s 43ms/step - loss: 0.0095 - accuracy: 0.9967 - precision: 0.9976 - recall: 0.9978 - val_loss: 3.4570 - val_accuracy: 0.6492 - val_precision: 0.9987 - val_recall: 0.5211\n",
            "Epoch 26/100\n",
            "255/255 [==============================] - 12s 46ms/step - loss: 0.0027 - accuracy: 0.9994 - precision: 0.9995 - recall: 0.9997 - val_loss: 0.2041 - val_accuracy: 0.9583 - val_precision: 0.9979 - val_recall: 0.9450\n",
            "Epoch 27/100\n",
            "255/255 [==============================] - 11s 43ms/step - loss: 0.0127 - accuracy: 0.9959 - precision: 0.9973 - recall: 0.9971 - val_loss: 1.0771 - val_accuracy: 0.7974 - val_precision: 0.7929 - val_recall: 0.9785\n",
            "Epoch 28/100\n",
            "255/255 [==============================] - 11s 44ms/step - loss: 0.0085 - accuracy: 0.9969 - precision: 0.9974 - recall: 0.9983 - val_loss: 0.5646 - val_accuracy: 0.8705 - val_precision: 0.8500 - val_recall: 0.9993\n",
            "Epoch 29/100\n",
            "255/255 [==============================] - 11s 42ms/step - loss: 0.0061 - accuracy: 0.9975 - precision: 0.9985 - recall: 0.9981 - val_loss: 0.1730 - val_accuracy: 0.9603 - val_precision: 0.9979 - val_recall: 0.9477\n",
            "Epoch 30/100\n",
            "255/255 [==============================] - 11s 44ms/step - loss: 0.0075 - accuracy: 0.9974 - precision: 0.9990 - recall: 0.9974 - val_loss: 0.0485 - val_accuracy: 0.9887 - val_precision: 0.9848 - val_recall: 1.0000\n",
            "Epoch 31/100\n",
            "255/255 [==============================] - 12s 46ms/step - loss: 0.0031 - accuracy: 0.9986 - precision: 0.9990 - recall: 0.9991 - val_loss: 0.0418 - val_accuracy: 0.9931 - val_precision: 0.9933 - val_recall: 0.9973\n",
            "Epoch 32/100\n",
            "255/255 [==============================] - 11s 44ms/step - loss: 0.0111 - accuracy: 0.9972 - precision: 0.9983 - recall: 0.9978 - val_loss: 0.9178 - val_accuracy: 0.8297 - val_precision: 0.8139 - val_recall: 0.9946\n",
            "Epoch 33/100\n",
            "255/255 [==============================] - 11s 43ms/step - loss: 0.0072 - accuracy: 0.9975 - precision: 0.9983 - recall: 0.9983 - val_loss: 0.0536 - val_accuracy: 0.9863 - val_precision: 0.9848 - val_recall: 0.9966\n",
            "Epoch 34/100\n",
            "255/255 [==============================] - 11s 42ms/step - loss: 0.0024 - accuracy: 0.9995 - precision: 0.9997 - recall: 0.9997 - val_loss: 0.4759 - val_accuracy: 0.9097 - val_precision: 0.9977 - val_recall: 0.8786\n",
            "Epoch 35/100\n",
            "255/255 [==============================] - 11s 42ms/step - loss: 0.0122 - accuracy: 0.9966 - precision: 0.9976 - recall: 0.9976 - val_loss: 0.2133 - val_accuracy: 0.9475 - val_precision: 0.9459 - val_recall: 0.9846\n",
            "Epoch 36/100\n",
            "255/255 [==============================] - 11s 42ms/step - loss: 0.0075 - accuracy: 0.9973 - precision: 0.9978 - recall: 0.9985 - val_loss: 0.0910 - val_accuracy: 0.9760 - val_precision: 0.9925 - val_recall: 0.9745\n",
            "Epoch 37/100\n",
            "255/255 [==============================] - 11s 43ms/step - loss: 0.0126 - accuracy: 0.9956 - precision: 0.9969 - recall: 0.9969 - val_loss: 0.3595 - val_accuracy: 0.8901 - val_precision: 0.9138 - val_recall: 0.9383\n",
            "Epoch 38/100\n",
            "255/255 [==============================] - 11s 42ms/step - loss: 0.0046 - accuracy: 0.9985 - precision: 0.9986 - recall: 0.9993 - val_loss: 0.3420 - val_accuracy: 0.9102 - val_precision: 0.8911 - val_recall: 0.9993\n",
            "Epoch 39/100\n",
            "255/255 [==============================] - 11s 43ms/step - loss: 0.0061 - accuracy: 0.9982 - precision: 0.9988 - recall: 0.9986 - val_loss: 0.0188 - val_accuracy: 0.9926 - val_precision: 0.9973 - val_recall: 0.9926\n",
            "Epoch 40/100\n",
            "255/255 [==============================] - 11s 42ms/step - loss: 0.0069 - accuracy: 0.9973 - precision: 0.9981 - recall: 0.9981 - val_loss: 0.1639 - val_accuracy: 0.9568 - val_precision: 0.9454 - val_recall: 0.9987\n",
            "Epoch 41/100\n",
            "255/255 [==============================] - 11s 43ms/step - loss: 0.0108 - accuracy: 0.9969 - precision: 0.9978 - recall: 0.9980 - val_loss: 0.0631 - val_accuracy: 0.9833 - val_precision: 0.9986 - val_recall: 0.9785\n",
            "Epoch 42/100\n",
            "255/255 [==============================] - 11s 45ms/step - loss: 0.0091 - accuracy: 0.9974 - precision: 0.9985 - recall: 0.9980 - val_loss: 1.0398 - val_accuracy: 0.8047 - val_precision: 0.7893 - val_recall: 1.0000\n",
            "Epoch 43/100\n",
            "255/255 [==============================] - 12s 46ms/step - loss: 0.0047 - accuracy: 0.9989 - precision: 0.9991 - recall: 0.9993 - val_loss: 0.0830 - val_accuracy: 0.9764 - val_precision: 0.9986 - val_recall: 0.9691\n",
            "Epoch 44/100\n",
            "255/255 [==============================] - 12s 45ms/step - loss: 0.0080 - accuracy: 0.9978 - precision: 0.9981 - recall: 0.9988 - val_loss: 2.3048 - val_accuracy: 0.7061 - val_precision: 0.9945 - val_recall: 0.6016\n",
            "Epoch 45/100\n",
            "255/255 [==============================] - 12s 49ms/step - loss: 0.0065 - accuracy: 0.9971 - precision: 0.9976 - recall: 0.9983 - val_loss: 0.0221 - val_accuracy: 0.9946 - val_precision: 0.9966 - val_recall: 0.9960\n",
            "Epoch 46/100\n",
            "255/255 [==============================] - 13s 52ms/step - loss: 0.0069 - accuracy: 0.9978 - precision: 0.9978 - recall: 0.9991 - val_loss: 0.0578 - val_accuracy: 0.9833 - val_precision: 0.9959 - val_recall: 0.9812\n",
            "Epoch 47/100\n",
            "255/255 [==============================] - 13s 50ms/step - loss: 0.0107 - accuracy: 0.9968 - precision: 0.9983 - recall: 0.9973 - val_loss: 23.7511 - val_accuracy: 0.3513 - val_precision: 0.9942 - val_recall: 0.1140\n",
            "Epoch 48/100\n",
            "255/255 [==============================] - 12s 47ms/step - loss: 0.0079 - accuracy: 0.9973 - precision: 0.9978 - recall: 0.9985 - val_loss: 29.1174 - val_accuracy: 0.3337 - val_precision: 1.0000 - val_recall: 0.0892\n",
            "Epoch 49/100\n",
            "255/255 [==============================] - 11s 44ms/step - loss: 0.0092 - accuracy: 0.9966 - precision: 0.9973 - recall: 0.9980 - val_loss: 0.0496 - val_accuracy: 0.9868 - val_precision: 0.9939 - val_recall: 0.9879\n",
            "Epoch 50/100\n",
            "255/255 [==============================] - 12s 46ms/step - loss: 0.0067 - accuracy: 0.9978 - precision: 0.9985 - recall: 0.9985 - val_loss: 0.1864 - val_accuracy: 0.9563 - val_precision: 0.9986 - val_recall: 0.9416\n",
            "Epoch 51/100\n",
            "255/255 [==============================] - 13s 50ms/step - loss: 0.0062 - accuracy: 0.9984 - precision: 0.9990 - recall: 0.9988 - val_loss: 0.3252 - val_accuracy: 0.9411 - val_precision: 0.9957 - val_recall: 0.9235\n",
            "Epoch 52/100\n",
            "255/255 [==============================] - 12s 49ms/step - loss: 0.0077 - accuracy: 0.9978 - precision: 0.9983 - recall: 0.9986 - val_loss: 0.0404 - val_accuracy: 0.9877 - val_precision: 0.9887 - val_recall: 0.9946\n",
            "Epoch 53/100\n",
            "255/255 [==============================] - 12s 48ms/step - loss: 0.0023 - accuracy: 0.9994 - precision: 0.9997 - recall: 0.9995 - val_loss: 0.0210 - val_accuracy: 0.9951 - val_precision: 0.9940 - val_recall: 0.9993\n",
            "Epoch 54/100\n",
            "255/255 [==============================] - 12s 47ms/step - loss: 0.0065 - accuracy: 0.9975 - precision: 0.9986 - recall: 0.9980 - val_loss: 13.7624 - val_accuracy: 0.5442 - val_precision: 0.9982 - val_recall: 0.3776\n",
            "Epoch 55/100\n",
            "255/255 [==============================] - 12s 46ms/step - loss: 0.0133 - accuracy: 0.9957 - precision: 0.9966 - recall: 0.9974 - val_loss: 0.1976 - val_accuracy: 0.9377 - val_precision: 0.9327 - val_recall: 0.9859\n",
            "Epoch 56/100\n",
            "255/255 [==============================] - 12s 46ms/step - loss: 0.0034 - accuracy: 0.9991 - precision: 0.9998 - recall: 0.9990 - val_loss: 0.0680 - val_accuracy: 0.9872 - val_precision: 0.9953 - val_recall: 0.9873\n",
            "Epoch 57/100\n",
            "255/255 [==============================] - 12s 46ms/step - loss: 0.0077 - accuracy: 0.9977 - precision: 0.9985 - recall: 0.9983 - val_loss: 0.1028 - val_accuracy: 0.9804 - val_precision: 0.9979 - val_recall: 0.9752\n",
            "Epoch 58/100\n",
            "255/255 [==============================] - 12s 46ms/step - loss: 0.0076 - accuracy: 0.9983 - precision: 0.9985 - recall: 0.9991 - val_loss: 2.6439 - val_accuracy: 0.7728 - val_precision: 0.7631 - val_recall: 1.0000\n",
            "Epoch 59/100\n",
            "255/255 [==============================] - 12s 46ms/step - loss: 0.0111 - accuracy: 0.9958 - precision: 0.9971 - recall: 0.9971 - val_loss: 1.2672 - val_accuracy: 0.8111 - val_precision: 0.8978 - val_recall: 0.8370\n",
            "Epoch 60/100\n",
            "255/255 [==============================] - 12s 46ms/step - loss: 0.0062 - accuracy: 0.9982 - precision: 0.9986 - recall: 0.9988 - val_loss: 1.0240 - val_accuracy: 0.8641 - val_precision: 0.8688 - val_recall: 0.9591\n",
            "Epoch 61/100\n",
            "255/255 [==============================] - 12s 45ms/step - loss: 0.0073 - accuracy: 0.9971 - precision: 0.9974 - recall: 0.9985 - val_loss: 0.0515 - val_accuracy: 0.9863 - val_precision: 0.9993 - val_recall: 0.9819\n",
            "Epoch 62/100\n",
            "255/255 [==============================] - 12s 47ms/step - loss: 0.0012 - accuracy: 0.9999 - precision: 1.0000 - recall: 0.9998 - val_loss: 0.0259 - val_accuracy: 0.9917 - val_precision: 0.9894 - val_recall: 0.9993\n",
            "Epoch 63/100\n",
            "255/255 [==============================] - 12s 47ms/step - loss: 7.4402e-04 - accuracy: 0.9999 - precision: 1.0000 - recall: 0.9998 - val_loss: 0.0332 - val_accuracy: 0.9917 - val_precision: 0.9887 - val_recall: 1.0000\n",
            "Epoch 64/100\n",
            "255/255 [==============================] - 11s 44ms/step - loss: 4.3254e-04 - accuracy: 0.9999 - precision: 0.9998 - recall: 1.0000 - val_loss: 0.0222 - val_accuracy: 0.9966 - val_precision: 0.9967 - val_recall: 0.9987\n",
            "Epoch 65/100\n",
            "255/255 [==============================] - 11s 44ms/step - loss: 0.0292 - accuracy: 0.9917 - precision: 0.9947 - recall: 0.9937 - val_loss: 0.5472 - val_accuracy: 0.8454 - val_precision: 0.8256 - val_recall: 1.0000\n",
            "Epoch 66/100\n",
            "255/255 [==============================] - 11s 41ms/step - loss: 0.0044 - accuracy: 0.9986 - precision: 0.9985 - recall: 0.9997 - val_loss: 0.1010 - val_accuracy: 0.9764 - val_precision: 0.9952 - val_recall: 0.9725\n",
            "Epoch 67/100\n",
            "255/255 [==============================] - 11s 42ms/step - loss: 0.0075 - accuracy: 0.9977 - precision: 0.9985 - recall: 0.9983 - val_loss: 0.0387 - val_accuracy: 0.9926 - val_precision: 0.9953 - val_recall: 0.9946\n",
            "Epoch 68/100\n",
            "255/255 [==============================] - 11s 41ms/step - loss: 0.0018 - accuracy: 0.9994 - precision: 0.9997 - recall: 0.9995 - val_loss: 0.0490 - val_accuracy: 0.9902 - val_precision: 0.9980 - val_recall: 0.9886\n",
            "Epoch 69/100\n",
            "255/255 [==============================] - 11s 42ms/step - loss: 0.0074 - accuracy: 0.9972 - precision: 0.9978 - recall: 0.9983 - val_loss: 0.2681 - val_accuracy: 0.9347 - val_precision: 0.9527 - val_recall: 0.9584\n",
            "Epoch 70/100\n",
            "255/255 [==============================] - 11s 41ms/step - loss: 0.0074 - accuracy: 0.9973 - precision: 0.9981 - recall: 0.9981 - val_loss: 0.6887 - val_accuracy: 0.8685 - val_precision: 0.8480 - val_recall: 0.9993\n",
            "Epoch 71/100\n",
            "255/255 [==============================] - 11s 43ms/step - loss: 0.0046 - accuracy: 0.9985 - precision: 0.9985 - recall: 0.9995 - val_loss: 0.0713 - val_accuracy: 0.9799 - val_precision: 0.9739 - val_recall: 0.9993\n",
            "Epoch 72/100\n",
            "255/255 [==============================] - 11s 45ms/step - loss: 0.0191 - accuracy: 0.9953 - precision: 0.9966 - recall: 0.9969 - val_loss: 0.7425 - val_accuracy: 0.8606 - val_precision: 0.9983 - val_recall: 0.8109\n",
            "Epoch 73/100\n",
            "255/255 [==============================] - 10s 41ms/step - loss: 0.0051 - accuracy: 0.9984 - precision: 0.9986 - recall: 0.9991 - val_loss: 0.2971 - val_accuracy: 0.9377 - val_precision: 0.9985 - val_recall: 0.9162\n",
            "Epoch 74/100\n",
            "255/255 [==============================] - 10s 41ms/step - loss: 0.0036 - accuracy: 0.9989 - precision: 0.9990 - recall: 0.9995 - val_loss: 0.8985 - val_accuracy: 0.8754 - val_precision: 0.9984 - val_recall: 0.8310\n",
            "Epoch 75/100\n",
            "255/255 [==============================] - 10s 41ms/step - loss: 0.0017 - accuracy: 0.9998 - precision: 0.9998 - recall: 0.9998 - val_loss: 0.2994 - val_accuracy: 0.9264 - val_precision: 0.9455 - val_recall: 0.9544\n",
            "Epoch 76/100\n",
            "255/255 [==============================] - 10s 41ms/step - loss: 0.0092 - accuracy: 0.9975 - precision: 0.9978 - recall: 0.9988 - val_loss: 6.7303 - val_accuracy: 0.6021 - val_precision: 0.9942 - val_recall: 0.4588\n",
            "Epoch 77/100\n",
            "255/255 [==============================] - 10s 41ms/step - loss: 0.0047 - accuracy: 0.9985 - precision: 0.9991 - recall: 0.9988 - val_loss: 0.0471 - val_accuracy: 0.9892 - val_precision: 0.9855 - val_recall: 1.0000\n",
            "Epoch 78/100\n",
            "255/255 [==============================] - 10s 41ms/step - loss: 0.0071 - accuracy: 0.9972 - precision: 0.9978 - recall: 0.9983 - val_loss: 0.0438 - val_accuracy: 0.9902 - val_precision: 0.9980 - val_recall: 0.9886\n",
            "Epoch 79/100\n",
            "255/255 [==============================] - 10s 41ms/step - loss: 0.0090 - accuracy: 0.9966 - precision: 0.9974 - recall: 0.9978 - val_loss: 71.6131 - val_accuracy: 0.2812 - val_precision: 1.0000 - val_recall: 0.0174\n",
            "Epoch 80/100\n",
            "255/255 [==============================] - 10s 41ms/step - loss: 0.0106 - accuracy: 0.9957 - precision: 0.9971 - recall: 0.9969 - val_loss: 0.0632 - val_accuracy: 0.9877 - val_precision: 0.9953 - val_recall: 0.9879\n",
            "Epoch 81/100\n",
            "255/255 [==============================] - 11s 42ms/step - loss: 0.0026 - accuracy: 0.9993 - precision: 0.9997 - recall: 0.9993 - val_loss: 0.0306 - val_accuracy: 0.9936 - val_precision: 0.9960 - val_recall: 0.9953\n",
            "Epoch 82/100\n",
            "255/255 [==============================] - 10s 41ms/step - loss: 0.0032 - accuracy: 0.9991 - precision: 0.9993 - recall: 0.9995 - val_loss: 0.3787 - val_accuracy: 0.9195 - val_precision: 0.9093 - val_recall: 0.9886\n",
            "Epoch 83/100\n",
            "255/255 [==============================] - 11s 43ms/step - loss: 0.0010 - accuracy: 0.9995 - precision: 0.9997 - recall: 0.9997 - val_loss: 0.1857 - val_accuracy: 0.9686 - val_precision: 0.9979 - val_recall: 0.9591\n",
            "Epoch 84/100\n",
            "255/255 [==============================] - 11s 44ms/step - loss: 0.0040 - accuracy: 0.9984 - precision: 0.9988 - recall: 0.9990 - val_loss: 1.6658 - val_accuracy: 0.8219 - val_precision: 0.8042 - val_recall: 1.0000\n",
            "Epoch 85/100\n",
            "255/255 [==============================] - 11s 44ms/step - loss: 0.0093 - accuracy: 0.9971 - precision: 0.9981 - recall: 0.9978 - val_loss: 0.1128 - val_accuracy: 0.9657 - val_precision: 0.9746 - val_recall: 0.9785\n",
            "Epoch 86/100\n",
            "255/255 [==============================] - 11s 44ms/step - loss: 0.0067 - accuracy: 0.9980 - precision: 0.9985 - recall: 0.9988 - val_loss: 0.6942 - val_accuracy: 0.8553 - val_precision: 0.9164 - val_recall: 0.8826\n",
            "Epoch 87/100\n",
            "255/255 [==============================] - 11s 44ms/step - loss: 0.0088 - accuracy: 0.9978 - precision: 0.9986 - recall: 0.9983 - val_loss: 0.0579 - val_accuracy: 0.9887 - val_precision: 0.9953 - val_recall: 0.9893\n",
            "Epoch 88/100\n",
            "255/255 [==============================] - 11s 44ms/step - loss: 9.7602e-04 - accuracy: 0.9999 - precision: 0.9998 - recall: 1.0000 - val_loss: 0.0711 - val_accuracy: 0.9814 - val_precision: 0.9751 - val_recall: 1.0000\n",
            "Epoch 89/100\n",
            "255/255 [==============================] - 11s 44ms/step - loss: 5.7595e-04 - accuracy: 0.9999 - precision: 1.0000 - recall: 0.9998 - val_loss: 0.1393 - val_accuracy: 0.9720 - val_precision: 0.9632 - val_recall: 1.0000\n",
            "Epoch 90/100\n",
            "255/255 [==============================] - 11s 44ms/step - loss: 0.0019 - accuracy: 0.9990 - precision: 0.9991 - recall: 0.9995 - val_loss: 0.0788 - val_accuracy: 0.9760 - val_precision: 0.9911 - val_recall: 0.9759\n",
            "Epoch 91/100\n",
            "255/255 [==============================] - 11s 44ms/step - loss: 0.0144 - accuracy: 0.9958 - precision: 0.9971 - recall: 0.9971 - val_loss: 0.0556 - val_accuracy: 0.9877 - val_precision: 0.9880 - val_recall: 0.9953\n",
            "Epoch 92/100\n",
            "255/255 [==============================] - 11s 44ms/step - loss: 0.0074 - accuracy: 0.9974 - precision: 0.9981 - recall: 0.9983 - val_loss: 0.0711 - val_accuracy: 0.9833 - val_precision: 0.9815 - val_recall: 0.9960\n",
            "Epoch 93/100\n",
            "255/255 [==============================] - 11s 44ms/step - loss: 0.0054 - accuracy: 0.9985 - precision: 0.9986 - recall: 0.9993 - val_loss: 0.0514 - val_accuracy: 0.9858 - val_precision: 0.9933 - val_recall: 0.9873\n",
            "Epoch 94/100\n",
            "255/255 [==============================] - 11s 44ms/step - loss: 0.0029 - accuracy: 0.9991 - precision: 0.9993 - recall: 0.9995 - val_loss: 0.6012 - val_accuracy: 0.9176 - val_precision: 0.9985 - val_recall: 0.8887\n",
            "Epoch 95/100\n",
            "255/255 [==============================] - 11s 44ms/step - loss: 0.0024 - accuracy: 0.9993 - precision: 0.9993 - recall: 0.9997 - val_loss: 0.4303 - val_accuracy: 0.9063 - val_precision: 0.8874 - val_recall: 0.9987\n",
            "Epoch 96/100\n",
            "255/255 [==============================] - 11s 44ms/step - loss: 0.0123 - accuracy: 0.9959 - precision: 0.9971 - recall: 0.9973 - val_loss: 1.0726 - val_accuracy: 0.8592 - val_precision: 0.8781 - val_recall: 0.9376\n",
            "Epoch 97/100\n",
            "255/255 [==============================] - 11s 43ms/step - loss: 0.0072 - accuracy: 0.9984 - precision: 0.9991 - recall: 0.9986 - val_loss: 0.9418 - val_accuracy: 0.8307 - val_precision: 0.8121 - val_recall: 1.0000\n",
            "Epoch 98/100\n",
            "255/255 [==============================] - 11s 44ms/step - loss: 0.0033 - accuracy: 0.9986 - precision: 0.9988 - recall: 0.9993 - val_loss: 0.4553 - val_accuracy: 0.9107 - val_precision: 0.8912 - val_recall: 1.0000\n",
            "Epoch 99/100\n",
            "255/255 [==============================] - 11s 44ms/step - loss: 0.0011 - accuracy: 0.9996 - precision: 0.9997 - recall: 0.9998 - val_loss: 0.4287 - val_accuracy: 0.9259 - val_precision: 0.9985 - val_recall: 0.9001\n",
            "Epoch 100/100\n",
            "255/255 [==============================] - 11s 44ms/step - loss: 0.0065 - accuracy: 0.9974 - precision: 0.9985 - recall: 0.9980 - val_loss: 0.0619 - val_accuracy: 0.9853 - val_precision: 0.9828 - val_recall: 0.9973\n"
          ]
        }
      ],
      "source": [
        "history_cnn = cnn.fit(x_train, tray, epochs=100, batch_size=32, validation_split=.2)"
      ]
    },
    {
      "cell_type": "code",
      "execution_count": 116,
      "metadata": {},
      "outputs": [],
      "source": [
        "# Saving the CNN model\n",
        "cnn.save('cnn_model.keras')"
      ]
    },
    {
      "cell_type": "code",
      "execution_count": 15,
      "metadata": {},
      "outputs": [],
      "source": [
        "# Load the saved models\n",
        "loaded_cnn = load_model('cnn_model.keras')"
      ]
    },
    {
      "cell_type": "code",
      "execution_count": 16,
      "metadata": {
        "colab": {
          "base_uri": "https://localhost:8080/"
        },
        "id": "OHFNciELj1do",
        "outputId": "bfb9f0c9-9ad9-44a0-d214-3058b4c22b9c"
      },
      "outputs": [
        {
          "name": "stdout",
          "output_type": "stream",
          "text": [
            "137/137 [==============================] - 3s 14ms/step - loss: 0.0861 - accuracy: 0.9814 - precision: 0.9773 - recall: 0.9975\n"
          ]
        }
      ],
      "source": [
        "scores_cnn = loaded_cnn.evaluate(x_test,tesy)"
      ]
    },
    {
      "cell_type": "code",
      "execution_count": 17,
      "metadata": {
        "colab": {
          "base_uri": "https://localhost:8080/"
        },
        "id": "yeLwb9VGnfZf",
        "outputId": "0d0ee572-387d-4c3b-9636-cea41fb1253d"
      },
      "outputs": [
        {
          "name": "stdout",
          "output_type": "stream",
          "text": [
            "137/137 [==============================] - 2s 14ms/step\n"
          ]
        }
      ],
      "source": [
        "pred_cnn= loaded_cnn.predict(x_test)\n",
        "yhat_cnn = pred_cnn>=.5\n",
        "yhat_cnn = yhat_cnn.astype(int)"
      ]
    },
    {
      "cell_type": "code",
      "execution_count": 18,
      "metadata": {
        "colab": {
          "base_uri": "https://localhost:8080/"
        },
        "id": "bv29ZazNngiS",
        "outputId": "54e398d6-e11d-4188-ba52-7e6087498a9f"
      },
      "outputs": [
        {
          "name": "stdout",
          "output_type": "stream",
          "text": [
            "              precision    recall  f1-score   support\n",
            "\n",
            "         0.0       0.99      0.94      0.97      1214\n",
            "         1.0       0.98      1.00      0.99      3152\n",
            "\n",
            "    accuracy                           0.98      4366\n",
            "   macro avg       0.99      0.97      0.98      4366\n",
            "weighted avg       0.98      0.98      0.98      4366\n",
            "\n"
          ]
        }
      ],
      "source": [
        "from sklearn.metrics import classification_report\n",
        "print(classification_report(tesy.values,yhat_cnn))"
      ]
    },
    {
      "cell_type": "markdown",
      "metadata": {},
      "source": [
        "**Transformer**"
      ]
    },
    {
      "cell_type": "code",
      "execution_count": 19,
      "metadata": {},
      "outputs": [],
      "source": [
        "def transformer_encoder(inputs, head_size, num_heads, ff_dim, dropout=0):\n",
        "    x = MultiHeadAttention(\n",
        "        key_dim=head_size, num_heads=num_heads, dropout=dropout\n",
        "    )(inputs, inputs)\n",
        "    x = Dropout(dropout)(x)\n",
        "    x = LayerNormalization(epsilon=1e-6)(x)\n",
        "    res = x + inputs\n",
        "\n",
        "    x = Conv1D(filters=ff_dim, kernel_size=1, activation=\"relu\")(res)\n",
        "    x = Conv1D(filters=inputs.shape[-1], kernel_size=1)(x)\n",
        "    x = LayerNormalization()(x)\n",
        "    return x + res"
      ]
    },
    {
      "cell_type": "code",
      "execution_count": 20,
      "metadata": {},
      "outputs": [],
      "source": [
        "inputs = Input(shape=(x_train.shape[1],1))\n",
        "x = inputs\n",
        "x = transformer_encoder(x, 64, 4, 4, 0.1)\n",
        "x = GlobalAveragePooling1D()(x)\n",
        "x = Dense(128, activation=\"relu\")(x)\n",
        "x = Dense(64, activation=\"selu\")(x)\n",
        "x = Dense(32, activation=\"selu\")(x)\n",
        "x = Dense(16, activation=\"selu\")(x)\n",
        "outputs = Dense(1, activation=\"sigmoid\")(x)\n",
        "tf_model= Model(inputs, outputs)"
      ]
    },
    {
      "cell_type": "code",
      "execution_count": null,
      "metadata": {},
      "outputs": [],
      "source": [
        "import tensorflow_addons as tfa"
      ]
    },
    {
      "cell_type": "code",
      "execution_count": 22,
      "metadata": {},
      "outputs": [],
      "source": [
        "focal_loss = tfa.losses.SigmoidFocalCrossEntropy(alpha=0.33, gamma=2.5)\n",
        "\n",
        "tf_model.compile(optimizer='adam', loss=focal_loss, metrics=[\"accuracy\", Recall(), Precision()])"
      ]
    },
    {
      "cell_type": "code",
      "execution_count": null,
      "metadata": {},
      "outputs": [],
      "source": [
        "history_tf = tf_model.fit(x_train, tray, epochs=10, batch_size=32, validation_split=.2, verbose=1)"
      ]
    },
    {
      "cell_type": "markdown",
      "metadata": {},
      "source": []
    },
    {
      "cell_type": "code",
      "execution_count": 205,
      "metadata": {},
      "outputs": [],
      "source": [
        "# Saving the Transformer model\n",
        "tf_model.save('transformer_model.keras')"
      ]
    },
    {
      "cell_type": "code",
      "execution_count": 24,
      "metadata": {},
      "outputs": [],
      "source": [
        "# Load the saved models\n",
        "loaded_transformer = load_model('transformer_model.keras')"
      ]
    },
    {
      "cell_type": "code",
      "execution_count": 26,
      "metadata": {},
      "outputs": [
        {
          "name": "stdout",
          "output_type": "stream",
          "text": [
            "137/137 [==============================] - 4s 24ms/step - loss: 0.0491 - accuracy: 0.6056 - recall_27: 0.5825 - precision_27: 0.8189\n"
          ]
        }
      ],
      "source": [
        "scores_tf = loaded_transformer.evaluate(x_test,tesy)"
      ]
    },
    {
      "cell_type": "code",
      "execution_count": 27,
      "metadata": {},
      "outputs": [
        {
          "name": "stdout",
          "output_type": "stream",
          "text": [
            "137/137 [==============================] - 4s 24ms/step\n",
            "              precision    recall  f1-score   support\n",
            "\n",
            "         0.0       0.38      0.67      0.48      1214\n",
            "         1.0       0.82      0.58      0.68      3152\n",
            "\n",
            "    accuracy                           0.61      4366\n",
            "   macro avg       0.60      0.62      0.58      4366\n",
            "weighted avg       0.70      0.61      0.63      4366\n",
            "\n"
          ]
        }
      ],
      "source": [
        "pred_transformer= loaded_transformer.predict(x_test)\n",
        "yhat_transformer = pred_transformer>=.5\n",
        "yhat_transformer = yhat_transformer.astype(int)\n",
        "print(classification_report(tesy.values, yhat_transformer, zero_division=1))\n"
      ]
    },
    {
      "cell_type": "code",
      "execution_count": 28,
      "metadata": {},
      "outputs": [
        {
          "data": {
            "image/png": "[encoded data removed]",
            "text/plain": [
              "<Figure size 640x480 with 1 Axes>"
            ]
          },
          "metadata": {},
          "output_type": "display_data"
        }
      ],
      "source": [
        "def plot_comparison(scores_cnn, scores_tf):\n",
        "    labels = ['Accuracy', 'Precision', 'Recall']\n",
        "    cnn_scores = [scores_cnn[1], scores_cnn[2], scores_cnn[3]]\n",
        "    tf_scores = [scores_tf[1], scores_tf[2], scores_tf[3]] \n",
        "\n",
        "    x = np.arange(len(labels))\n",
        "    width = 0.35\n",
        "\n",
        "    fig, ax = plt.subplots()\n",
        "    rects1 = ax.bar(x - width/2, cnn_scores, width, label='CNN')\n",
        "    rects2 = ax.bar(x + width/2, tf_scores, width, label='Transformer')\n",
        "\n",
        "    ax.set_ylabel('Scores')\n",
        "    ax.set_title('Scores by Model and Metric')\n",
        "    ax.set_xticks(x)\n",
        "    ax.set_xticklabels(labels)\n",
        "    ax.legend()\n",
        "\n",
        "    plt.show()\n",
        "\n",
        "plot_comparison(scores_cnn, scores_tf)\n"
      ]
    },
    {
      "cell_type": "code",
      "execution_count": 29,
      "metadata": {},
      "outputs": [
        {
          "data": {
            "image/png": "[encoded data removed]",
            "text/plain": [
              "<Figure size 600x600 with 1 Axes>"
            ]
          },
          "metadata": {},
          "output_type": "display_data"
        },
        {
          "data": {
            "image/png": "[encoded data removed]",
            "text/plain": [
              "<Figure size 600x600 with 1 Axes>"
            ]
          },
          "metadata": {},
          "output_type": "display_data"
        }
      ],
      "source": [
        "from sklearn.metrics import confusion_matrix\n",
        "import seaborn as sns\n",
        "import matplotlib.pyplot as plt\n",
        "\n",
        "def plot_confusion_matrix(cm, title='Confusion Matrix'):\n",
        "    plt.figure(figsize=(6, 6))\n",
        "    sns.heatmap(cm, annot=True, fmt='d', cmap='Blues', cbar=False)\n",
        "    plt.title(title)\n",
        "    plt.ylabel('True Label')\n",
        "    plt.xlabel('Predicted Label')\n",
        "    plt.show()\n",
        "\n",
        "# Compute confusion matrix for CNN\n",
        "cm_cnn = confusion_matrix(tesy, yhat_cnn)\n",
        "plot_confusion_matrix(cm_cnn, title='Confusion Matrix for CNN')\n",
        "\n",
        "# Compute confusion matrix for Transformer\n",
        "cm_transformer = confusion_matrix(tesy, yhat_transformer)\n",
        "plot_confusion_matrix(cm_transformer, title='Confusion Matrix for Transformer')\n"
      ]
    }
  ],
  "metadata": {
    "colab": {
      "provenance": []
    },
    "kernelspec": {
      "display_name": "Python 3",
      "name": "python3"
    },
    "language_info": {
      "codemirror_mode": {
        "name": "ipython",
        "version": 3
      },
      "file_extension": ".py",
      "mimetype": "text/x-python",
      "name": "python",
      "nbconvert_exporter": "python",
      "pygments_lexer": "ipython3",
      "version": "3.11.4"
    }
  },
  "nbformat": 4,
  "nbformat_minor": 0
}
